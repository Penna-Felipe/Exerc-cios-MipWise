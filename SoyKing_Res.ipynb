{
  "nbformat": 4,
  "nbformat_minor": 0,
  "metadata": {
    "colab": {
      "provenance": []
    },
    "kernelspec": {
      "name": "python3",
      "display_name": "Python 3"
    },
    "language_info": {
      "name": "python"
    }
  },
  "cells": [
    {
      "cell_type": "code",
      "execution_count": null,
      "metadata": {
        "colab": {
          "base_uri": "https://localhost:8080/"
        },
        "id": "V4-V4mK3kllU",
        "outputId": "56c40824-0de9-4b13-985a-79ce3a905d23"
      },
      "outputs": [
        {
          "output_type": "stream",
          "name": "stdout",
          "text": [
            "Looking in indexes: https://pypi.org/simple, https://us-python.pkg.dev/colab-wheels/public/simple/\n",
            "Requirement already satisfied: pulp in /usr/local/lib/python3.7/dist-packages (2.6.0)\n"
          ]
        }
      ],
      "source": [
        "#INSTALAR BIBLIOTECA PULP\n",
        "!pip install pulp\n",
        "\n",
        "from pulp import *\n",
        "\n",
        "# DEFINIR O MODELO\n",
        "model = pulp.LpProblem('SoyKing', sense=LpMinimize)\n",
        "\n",
        "# ADICIONAR VARIÁVEIS\n",
        "x = pulp.LpVariable.dicts(indices=[1, 2, 3, 4, 5, 6, 7, 8, 9, 10, 11], cat='LpContinous', lowBound=0, name='x')\n",
        "\n",
        "# ADICIONAR AS RESTRIÇÕES\n",
        "model.addConstraint(x[1] + x[4] + x[7] <= 16, name='restrição_1')\n",
        "model.addConstraint(x[2] + x[5] + x[8] <= 11, name='restrição_2')\n",
        "model.addConstraint(x[3] + x[6] + x[9] <= 23, name='restrição_3')\n",
        "model.addConstraint(x[1] + x[2] + x[3] + x[10] == 20, name='restrição_4')\n",
        "model.addConstraint(x[4] + x[5] + x[6] + x[11] == 25, name='restrição_5')\n",
        "\n",
        "# FUNÇÃO OBJETIVA\n",
        "model.setObjective(66*x[1] + 51*x[2] + 73*x[3] + 54*x[4] + 82*x[5] + 63*x[6])\n",
        "\n",
        "#OTIMIZAR\n",
        "model.solve()\n",
        "\n",
        "#OBTER E MOSTRAR RESULTADO\n",
        "x_sol = {i: x[i].value() for i in [1, 2, 3, 4, 5, 6]}\n",
        "print(f'x = {x_sol}')"
      ]
    }
  ]
}